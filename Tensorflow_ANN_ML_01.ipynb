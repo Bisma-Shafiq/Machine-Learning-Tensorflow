{
  "nbformat": 4,
  "nbformat_minor": 0,
  "metadata": {
    "colab": {
      "provenance": [],
      "authorship_tag": "ABX9TyMg2tAs4vx+haeZQm2E2EfF",
      "include_colab_link": true
    },
    "kernelspec": {
      "name": "python3",
      "display_name": "Python 3"
    },
    "language_info": {
      "name": "python"
    }
  },
  "cells": [
    {
      "cell_type": "markdown",
      "metadata": {
        "id": "view-in-github",
        "colab_type": "text"
      },
      "source": [
        "<a href=\"https://colab.research.google.com/github/Bisma-Shafiq/Machine-Learning-Tensorflow/blob/main/Tensorflow_ANN_ML_01.ipynb\" target=\"_parent\"><img src=\"https://colab.research.google.com/assets/colab-badge.svg\" alt=\"Open In Colab\"/></a>"
      ]
    },
    {
      "cell_type": "code",
      "execution_count": null,
      "metadata": {
        "id": "Sy_gg4VQMLQy"
      },
      "outputs": [],
      "source": [
        "import pandas as pd\n",
        "import numpy as np\n",
        "import tensorflow as tf\n"
      ]
    },
    {
      "cell_type": "code",
      "source": [
        "print(\"TensorFlow version:\", tf.__version__)\n"
      ],
      "metadata": {
        "colab": {
          "base_uri": "https://localhost:8080/"
        },
        "id": "Vt5FxdMrMVMb",
        "outputId": "680bd1cf-bb11-4455-ff8d-8939558a99f4"
      },
      "execution_count": null,
      "outputs": [
        {
          "output_type": "stream",
          "name": "stdout",
          "text": [
            "TensorFlow version: 2.18.0\n"
          ]
        }
      ]
    },
    {
      "cell_type": "code",
      "source": [
        "mnist = tf.keras.datasets.mnist"
      ],
      "metadata": {
        "id": "uSOXkGRgMje_"
      },
      "execution_count": null,
      "outputs": []
    },
    {
      "cell_type": "code",
      "source": [
        "(x_trian,y_train),(x_test,y_test)=mnist.load_data()"
      ],
      "metadata": {
        "id": "GIqCPJwyMsl2"
      },
      "execution_count": null,
      "outputs": []
    },
    {
      "cell_type": "code",
      "source": [
        "x_trian,x_test=x_trian/255.0,x_test/255.0"
      ],
      "metadata": {
        "id": "niEZxzw_M4GP"
      },
      "execution_count": null,
      "outputs": []
    },
    {
      "cell_type": "code",
      "source": [
        "# buils ml model\n",
        "model = tf.keras.models.Sequential([\n",
        "    tf.keras.layers.Flatten(input_shape=(28,28)),\n",
        "    tf.keras.layers.Dense(64,activation='relu'),\n",
        "    tf.keras.layers.Dropout(0.2),\n",
        "    tf.keras.layers.Dense(10,activation='softmax')\n",
        "])"
      ],
      "metadata": {
        "colab": {
          "base_uri": "https://localhost:8080/"
        },
        "id": "MNOPKPU2NAQV",
        "outputId": "fe184529-aabe-4943-860e-86369f056f42"
      },
      "execution_count": null,
      "outputs": [
        {
          "output_type": "stream",
          "name": "stderr",
          "text": [
            "/usr/local/lib/python3.11/dist-packages/keras/src/layers/reshaping/flatten.py:37: UserWarning: Do not pass an `input_shape`/`input_dim` argument to a layer. When using Sequential models, prefer using an `Input(shape)` object as the first layer in the model instead.\n",
            "  super().__init__(**kwargs)\n"
          ]
        }
      ]
    },
    {
      "cell_type": "code",
      "source": [
        "predictions = model(x_trian[:1]).numpy()\n",
        "predictions"
      ],
      "metadata": {
        "colab": {
          "base_uri": "https://localhost:8080/"
        },
        "id": "fzeo4uzZNoke",
        "outputId": "2b6632d8-8579-4e87-9a13-e570c70dd01b"
      },
      "execution_count": null,
      "outputs": [
        {
          "output_type": "execute_result",
          "data": {
            "text/plain": [
              "array([[0.04677602, 0.12924716, 0.17737456, 0.08281698, 0.03193094,\n",
              "        0.05378684, 0.09945613, 0.24866728, 0.08373599, 0.04620798]],\n",
              "      dtype=float32)"
            ]
          },
          "metadata": {},
          "execution_count": 17
        }
      ]
    },
    {
      "cell_type": "code",
      "source": [
        "#The tf.nn.softmax function converts these logits to probabilities for each class:\n",
        "tf.nn.softmax(predictions).numpy()\n"
      ],
      "metadata": {
        "colab": {
          "base_uri": "https://localhost:8080/"
        },
        "id": "iOny481YOzb9",
        "outputId": "42171047-8ed3-4cd0-bd45-e66bb435215b"
      },
      "execution_count": null,
      "outputs": [
        {
          "output_type": "execute_result",
          "data": {
            "text/plain": [
              "array([[0.09461305, 0.10274667, 0.10781252, 0.09808519, 0.09321888,\n",
              "        0.09527869, 0.09973089, 0.11577939, 0.09817536, 0.09455931]],\n",
              "      dtype=float32)"
            ]
          },
          "metadata": {},
          "execution_count": 19
        }
      ]
    },
    {
      "cell_type": "code",
      "source": [
        "model.compile(optimizer='adam', loss= tf.keras.losses.SparseCategoricalCrossentropy(),metrics=['accuracy'])"
      ],
      "metadata": {
        "id": "9KxVKcE6PDJQ"
      },
      "execution_count": null,
      "outputs": []
    },
    {
      "cell_type": "code",
      "source": [
        "model.fit(x_trian, y_train, epochs=5)\n"
      ],
      "metadata": {
        "colab": {
          "base_uri": "https://localhost:8080/"
        },
        "id": "tGREI-znP10M",
        "outputId": "b3ac4066-267b-4748-f009-6355e275b6a0"
      },
      "execution_count": null,
      "outputs": [
        {
          "output_type": "stream",
          "name": "stdout",
          "text": [
            "Epoch 1/5\n",
            "\u001b[1m1875/1875\u001b[0m \u001b[32m━━━━━━━━━━━━━━━━━━━━\u001b[0m\u001b[37m\u001b[0m \u001b[1m6s\u001b[0m 3ms/step - accuracy: 0.8267 - loss: 0.5807\n",
            "Epoch 2/5\n",
            "\u001b[1m1875/1875\u001b[0m \u001b[32m━━━━━━━━━━━━━━━━━━━━\u001b[0m\u001b[37m\u001b[0m \u001b[1m6s\u001b[0m 3ms/step - accuracy: 0.9375 - loss: 0.2051\n",
            "Epoch 3/5\n",
            "\u001b[1m1875/1875\u001b[0m \u001b[32m━━━━━━━━━━━━━━━━━━━━\u001b[0m\u001b[37m\u001b[0m \u001b[1m5s\u001b[0m 3ms/step - accuracy: 0.9522 - loss: 0.1575\n",
            "Epoch 4/5\n",
            "\u001b[1m1875/1875\u001b[0m \u001b[32m━━━━━━━━━━━━━━━━━━━━\u001b[0m\u001b[37m\u001b[0m \u001b[1m11s\u001b[0m 3ms/step - accuracy: 0.9597 - loss: 0.1330\n",
            "Epoch 5/5\n",
            "\u001b[1m1875/1875\u001b[0m \u001b[32m━━━━━━━━━━━━━━━━━━━━\u001b[0m\u001b[37m\u001b[0m \u001b[1m9s\u001b[0m 5ms/step - accuracy: 0.9627 - loss: 0.1232\n"
          ]
        },
        {
          "output_type": "execute_result",
          "data": {
            "text/plain": [
              "<keras.src.callbacks.history.History at 0x7b83ce9edf10>"
            ]
          },
          "metadata": {},
          "execution_count": 24
        }
      ]
    },
    {
      "cell_type": "code",
      "source": [
        "model.evaluate(x_test,y_test,verbose=True)"
      ],
      "metadata": {
        "colab": {
          "base_uri": "https://localhost:8080/"
        },
        "id": "Zbi73G0hQLgd",
        "outputId": "bd71e777-5f1e-4d78-c07e-00f81e127ac8"
      },
      "execution_count": null,
      "outputs": [
        {
          "output_type": "stream",
          "name": "stdout",
          "text": [
            "\u001b[1m313/313\u001b[0m \u001b[32m━━━━━━━━━━━━━━━━━━━━\u001b[0m\u001b[37m\u001b[0m \u001b[1m1s\u001b[0m 3ms/step - accuracy: 0.9661 - loss: 0.1101\n"
          ]
        },
        {
          "output_type": "execute_result",
          "data": {
            "text/plain": [
              "[0.09386208653450012, 0.9710000157356262]"
            ]
          },
          "metadata": {},
          "execution_count": 25
        }
      ]
    },
    {
      "cell_type": "code",
      "source": [
        "# comparision on sklearn vs tensorflow\n"
      ],
      "metadata": {
        "id": "nJ6HpRcUQYfy"
      },
      "execution_count": null,
      "outputs": []
    },
    {
      "cell_type": "code",
      "source": [
        "# Import necessary libraries\n",
        "import numpy as np\n",
        "import pandas as pd\n",
        "import matplotlib.pyplot as plt\n",
        "\n",
        "# For scikit-learn model\n",
        "from sklearn.linear_model import LinearRegression\n",
        "from sklearn.metrics import mean_squared_error\n",
        "\n",
        "# For TensorFlow (Keras) model\n",
        "import tensorflow as tf\n",
        "from tensorflow.keras.models import Sequential\n",
        "from tensorflow.keras.layers import Dense\n",
        "\n",
        "# -----------------------------------------------\n",
        "# Generate Synthetic Data\n",
        "# -----------------------------------------------\n",
        "np.random.seed(42)  # For reproducibility\n",
        "X_values = np.linspace(0, 10, 100)\n",
        "noise = np.random.normal(0, 1, 100)\n",
        "Y_values = 3 * X_values + noise  # Linear relationship with noise\n",
        "\n",
        "# Create a Pandas DataFrame for easy data manipulation\n",
        "data = pd.DataFrame({'X': X_values, 'Y': Y_values})\n",
        "\n",
        "# Prepare the data for modeling\n",
        "X = data['X'].values.reshape(-1, 1)  # Reshape for both frameworks\n",
        "y = data['Y'].values\n",
        "\n",
        "# -----------------------------------------------\n",
        "# Scikit-learn Implementation\n",
        "# -----------------------------------------------\n",
        "# Create and fit a linear regression model using scikit-learn\n",
        "model_sk = LinearRegression()\n",
        "model_sk.fit(X, y)\n",
        "\n",
        "# Make predictions using the scikit-learn model\n",
        "predictions_sk = model_sk.predict(X)\n",
        "\n",
        "# Evaluate the scikit-learn model using Mean Squared Error (MSE)\n",
        "mse_sk = mean_squared_error(y, predictions_sk)\n",
        "print(\"Scikit-learn Linear Regression\")\n",
        "print(\"-------------------------------\")\n",
        "print(\"Coefficient:\", model_sk.coef_[0])\n",
        "print(\"Intercept:\", model_sk.intercept_)\n",
        "print(\"Mean Squared Error:\", mse_sk)\n",
        "\n",
        "# -----------------------------------------------\n",
        "# TensorFlow (Keras) Implementation\n",
        "# -----------------------------------------------\n",
        "# Build a simple linear regression model using TensorFlow's Keras API\n",
        "model_tf = Sequential([\n",
        "    Dense(units=1, input_shape=(1,), activation='linear')\n",
        "])\n",
        "\n",
        "# Compile the model using the Adam optimizer and Mean Squared Error loss\n",
        "model_tf.compile(optimizer='adam', loss='mean_squared_error')\n",
        "\n",
        "# Train the TensorFlow model for 100 epochs\n",
        "model_tf.fit(X, y, epochs=100, verbose=0)\n",
        "\n",
        "# Make predictions using the trained TensorFlow model\n",
        "predictions_tf = model_tf.predict(X)\n",
        "\n",
        "# Evaluate the TensorFlow model's performance using Mean Squared Error (MSE)\n",
        "mse_tf = tf.keras.losses.MeanSquaredError()(y, predictions_tf).numpy()\n",
        "print(\"\\nTensorFlow (Keras) Linear Regression\")\n",
        "print(\"--------------------------------------\")\n",
        "print(\"Mean Squared Error:\", mse_tf)\n",
        "\n",
        "# -----------------------------------------------\n",
        "# Plotting the Results for Visual Comparison\n",
        "# -----------------------------------------------\n",
        "plt.figure(figsize=(12, 6))\n",
        "plt.scatter(X, y, label='Data', color='gray', alpha=0.6)\n",
        "plt.plot(X, predictions_sk, label='scikit-learn Prediction', color='blue')\n",
        "plt.plot(X, predictions_tf, label='TensorFlow Prediction', color='red', linestyle='--')\n",
        "plt.title(\"Linear Regression: scikit-learn vs TensorFlow\")\n",
        "plt.xlabel(\"X\")\n",
        "plt.ylabel(\"Y\")\n",
        "plt.legend()\n",
        "plt.show()\n"
      ],
      "metadata": {
        "colab": {
          "base_uri": "https://localhost:8080/",
          "height": 792
        },
        "id": "lAnni1Y-SWj-",
        "outputId": "5a4b4277-ffb6-4d8d-e861-0aa8bc362d6e"
      },
      "execution_count": null,
      "outputs": [
        {
          "output_type": "stream",
          "name": "stdout",
          "text": [
            "Scikit-learn Linear Regression\n",
            "-------------------------------\n",
            "Coefficient: 3.013793267336656\n",
            "Intercept: -0.17281285407737457\n",
            "Mean Squared Error: 0.8149047134980784\n"
          ]
        },
        {
          "output_type": "stream",
          "name": "stderr",
          "text": [
            "/usr/local/lib/python3.11/dist-packages/keras/src/layers/core/dense.py:87: UserWarning: Do not pass an `input_shape`/`input_dim` argument to a layer. When using Sequential models, prefer using an `Input(shape)` object as the first layer in the model instead.\n",
            "  super().__init__(activity_regularizer=activity_regularizer, **kwargs)\n"
          ]
        },
        {
          "output_type": "stream",
          "name": "stdout",
          "text": [
            "\u001b[1m4/4\u001b[0m \u001b[32m━━━━━━━━━━━━━━━━━━━━\u001b[0m\u001b[37m\u001b[0m \u001b[1m0s\u001b[0m 13ms/step\n",
            "\n",
            "TensorFlow (Keras) Linear Regression\n",
            "--------------------------------------\n",
            "Mean Squared Error: 285.98434\n"
          ]
        },
        {
          "output_type": "display_data",
          "data": {
            "text/plain": [
              "<Figure size 1200x600 with 1 Axes>"
            ],
            "image/png": "[encoded data removed]"
          },
          "metadata": {}
        }
      ]
    },
    {
      "cell_type": "code",
      "source": [],
      "metadata": {
        "id": "ettvHk6nSXK1"
      },
      "execution_count": null,
      "outputs": []
    }
  ]
}